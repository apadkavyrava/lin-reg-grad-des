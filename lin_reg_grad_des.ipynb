{
  "nbformat": 4,
  "nbformat_minor": 0,
  "metadata": {
    "colab": {
      "name": "lin_reg_grad_des.ipynb",
      "version": "0.3.2",
      "provenance": [],
      "collapsed_sections": [],
      "toc_visible": true
    },
    "kernelspec": {
      "name": "python3",
      "display_name": "Python 3"
    }
  },
  "cells": [
    {
      "metadata": {
        "id": "UnavCLGtNp45",
        "colab_type": "code",
        "outputId": "ac102681-c1cd-4b12-dddc-d6638a20d5ff",
        "colab": {
          "base_uri": "https://localhost:8080/",
          "height": 381
        }
      },
      "cell_type": "code",
      "source": [
        "import numpy as np\n",
        "import matplotlib.pyplot as plt\n",
        "\n",
        "filename = 'lin-reg-data.txt'\n",
        "data = np.loadtxt(filename, delimiter= ',')\n",
        "\n",
        "length = data.shape[1]\n",
        "weight = data[:, 0:length-1]\n",
        "height = np.array(data[:,length-1:])\n",
        "\n",
        "# cost function\n",
        "def computeCost(X, y, theta):\n",
        "    inner = np.power(((X * theta.T) - y), 2)\n",
        "    return np.sum(inner) / (2 * len(X))\n",
        "\n",
        "weight_mat = np.matrix(weight)\n",
        "weight_ones = np.insert(weight, 0, values=1, axis = 1)\n",
        "\n",
        "X = np.matrix(weight_ones)\n",
        "y = np.matrix(height)\n",
        "theta = np.matrix(np.array([0, 0]))\n",
        "\n",
        "initial_cost = computeCost(X, y, theta)  \n",
        "print('Initial cost:', initial_cost)\n",
        "\n",
        "# gradient descent\n",
        "def gradDes(theta, alpha, X, y, iter, weight_mat):\n",
        "    \n",
        "    theta0 = theta[0, 0]\n",
        "    theta1 = theta[0, 1]\n",
        "    m = len(y)\n",
        "\n",
        "    for i in range(iter):\n",
        "       \n",
        "        theta0 = theta0 - alpha * np.sum((X * theta.T) - y) / m\n",
        "        theta1 = theta1 - alpha * np.sum(((X * theta.T) - y).T * weight_mat) / m\n",
        "        #print(weight_mat.T.shape)\n",
        "        theta = np.matrix([theta0, theta1])\n",
        "  \n",
        "    return  (theta0, theta1)\n",
        "\n",
        "\n",
        "thetas = gradDes(theta, 0.01, X, y, 1000, weight_mat)\n",
        "\n",
        "theta_new =  np.matrix([thetas[0], thetas[1]] )\n",
        "cost = computeCost(X, y, theta_new)\n",
        "print('Min cost:', cost)\n",
        "\n",
        "y1= thetas[1] * weight_mat + thetas[0] \n",
        "\n",
        "y_array = np.array(y)\n",
        "y1_array = np.array(y1)\n",
        "weight_array = np.array(weight)\n",
        "\n",
        "# plotting prediction and original data\n",
        "plt.scatter(weight, y_array)\n",
        "plt.plot(weight, y1_array, color='r')\n",
        "plt.show()\n"
      ],
      "execution_count": 9,
      "outputs": [
        {
          "output_type": "stream",
          "text": [
            "Initial cost: 32.072733877455676\n",
            "Min cost: 4.515955503078914\n"
          ],
          "name": "stdout"
        },
        {
          "output_type": "display_data",
          "data": {
            "image/png": "[encoded data removed]",
            "text/plain": [
              "<Figure size 576x396 with 1 Axes>"
            ]
          },
          "metadata": {
            "tags": []
          }
        }
      ]
    }
  ]
}